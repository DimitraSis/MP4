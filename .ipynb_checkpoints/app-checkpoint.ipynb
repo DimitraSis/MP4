{
 "cells": [
  {
   "cell_type": "code",
   "execution_count": 1,
   "id": "4056b3f7",
   "metadata": {},
   "outputs": [
    {
     "ename": "ImportError",
     "evalue": "cannot import name 'joblib' from 'sklearn.externals' (C:\\Users\\freed\\anaconda3\\Lib\\site-packages\\sklearn\\externals\\__init__.py)",
     "output_type": "error",
     "traceback": [
      "\u001b[1;31m---------------------------------------------------------------------------\u001b[0m",
      "\u001b[1;31mImportError\u001b[0m                               Traceback (most recent call last)",
      "Cell \u001b[1;32mIn[1], line 3\u001b[0m\n\u001b[0;32m      1\u001b[0m \u001b[38;5;28;01mimport\u001b[39;00m \u001b[38;5;21;01mstreamlit\u001b[39;00m \u001b[38;5;28;01mas\u001b[39;00m \u001b[38;5;21;01mst\u001b[39;00m\n\u001b[0;32m      2\u001b[0m \u001b[38;5;28;01mimport\u001b[39;00m \u001b[38;5;21;01mpandas\u001b[39;00m \u001b[38;5;28;01mas\u001b[39;00m \u001b[38;5;21;01mpd\u001b[39;00m\n\u001b[1;32m----> 3\u001b[0m \u001b[38;5;28;01mfrom\u001b[39;00m \u001b[38;5;21;01msklearn\u001b[39;00m\u001b[38;5;21;01m.\u001b[39;00m\u001b[38;5;21;01mexternals\u001b[39;00m \u001b[38;5;28;01mimport\u001b[39;00m joblib  \u001b[38;5;66;03m# For loading the trained model\u001b[39;00m\n\u001b[0;32m      5\u001b[0m \u001b[38;5;66;03m# Load the trained classification model\u001b[39;00m\n\u001b[0;32m      6\u001b[0m model \u001b[38;5;241m=\u001b[39m joblib\u001b[38;5;241m.\u001b[39mload(\u001b[38;5;124m'\u001b[39m\u001b[38;5;124mpath/to/your/model.pkl\u001b[39m\u001b[38;5;124m'\u001b[39m)\n",
      "\u001b[1;31mImportError\u001b[0m: cannot import name 'joblib' from 'sklearn.externals' (C:\\Users\\freed\\anaconda3\\Lib\\site-packages\\sklearn\\externals\\__init__.py)"
     ]
    }
   ],
   "source": [
    "import streamlit as st\n",
    "import pandas as pd\n",
    "from sklearn.externals import joblib  # For loading the trained model\n",
    "\n",
    "# Load the trained classification model\n",
    "model = joblib.load(r'C:\\Users\\freed\\Desktop\\DAT\\DAT4\\BI\\week5\\MP4\\decision_tree_model.pkl')\n",
    "\n",
    "# Function to make predictions\n",
    "def predict_attrition(features):\n",
    "    prediction = model.predict(features)\n",
    "    return prediction\n",
    "\n",
    "# Streamlit app\n",
    "def main():\n",
    "    st.title(\"Attrition Prediction App\")\n",
    "\n",
    "    # Create input form for user data\n",
    "    st.header(\"Enter Employee Information:\")\n",
    "    age = st.slider(\"Age:\", min_value=18, max_value=65, value=30)\n",
    "    monthly_income = st.number_input(\"Monthly Income:\", min_value=0, value=5000)\n",
    "    # Add more input fields as needed\n",
    "\n",
    "    # Prepare input data for prediction\n",
    "    input_data = pd.DataFrame({\n",
    "        'Age': [age],\n",
    "        'MonthlyIncome': [monthly_income],\n",
    "        # Add more features based on your model\n",
    "    })\n",
    "\n",
    "    # Make predictions\n",
    "    if st.button(\"Predict Attrition\"):\n",
    "        prediction = predict_attrition(input_data)\n",
    "        st.write(f\"Predicted Attrition: {prediction}\")\n",
    "\n",
    "if __name__ == '__main__':\n",
    "    main()\n"
   ]
  },
  {
   "cell_type": "code",
   "execution_count": null,
   "id": "55328b2b",
   "metadata": {},
   "outputs": [],
   "source": []
  }
 ],
 "metadata": {
  "kernelspec": {
   "display_name": "Python 3 (ipykernel)",
   "language": "python",
   "name": "python3"
  },
  "language_info": {
   "codemirror_mode": {
    "name": "ipython",
    "version": 3
   },
   "file_extension": ".py",
   "mimetype": "text/x-python",
   "name": "python",
   "nbconvert_exporter": "python",
   "pygments_lexer": "ipython3",
   "version": "3.11.5"
  }
 },
 "nbformat": 4,
 "nbformat_minor": 5
}
